{
 "cells": [
  {
   "cell_type": "code",
   "execution_count": 3,
   "metadata": {},
   "outputs": [
    {
     "name": "stdout",
     "output_type": "stream",
     "text": [
      "💾 Check your data here: https://console.apify.com/storage/datasets/062532IzSDecVqB3F\n",
      "{'url': 'https://hips.hearstapps.com/hmg-prod/images/two-glasses-of-wine-and-summer-fruits-on-the-beach-royalty-free-image-1635272439.jpg', 'imageType': 'Unknown Type', 'matchesCount': 60}\n"
     ]
    }
   ],
   "source": [
    "from apify_client import ApifyClient\n",
    "\n",
    "# Initialize the ApifyClient with your Apify API token\n",
    "client = ApifyClient(\"apify_api_KBNDphgcWo4f602zn0ktx5ywtIgnzj3c7958\")\n",
    "\n",
    "# Prepare the Actor input\n",
    "run_input = {\n",
    "    \"startUrls\": [{ \"url\": \"https://hips.hearstapps.com/hmg-prod/images/two-glasses-of-wine-and-summer-fruits-on-the-beach-royalty-free-image-1635272439.jpg\" }],\n",
    "    \"proxy\": { \"useApifyProxy\": True },\n",
    "}\n",
    "\n",
    "# Run the Actor and wait for it to finish\n",
    "run = client.actor(\"alexey/google-lens\").call(run_input=run_input)\n",
    "\n",
    "# Fetch and print Actor results from the run's dataset (if there are any)\n",
    "print(\"💾 Check your data here: https://console.apify.com/storage/datasets/\" + run[\"defaultDatasetId\"])\n",
    "for item in client.dataset(run[\"defaultDatasetId\"]).iterate_items():\n",
    "    print(item)"
   ]
  }
 ],
 "metadata": {
  "kernelspec": {
   "display_name": "Python 3",
   "language": "python",
   "name": "python3"
  },
  "language_info": {
   "codemirror_mode": {
    "name": "ipython",
    "version": 3
   },
   "file_extension": ".py",
   "mimetype": "text/x-python",
   "name": "python",
   "nbconvert_exporter": "python",
   "pygments_lexer": "ipython3",
   "version": "3.12.3"
  }
 },
 "nbformat": 4,
 "nbformat_minor": 2
}
